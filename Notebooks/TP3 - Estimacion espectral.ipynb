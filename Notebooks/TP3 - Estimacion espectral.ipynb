{
 "cells": [
  {
   "cell_type": "markdown",
   "metadata": {},
   "source": [
    "## <img src=\"./logo_UTN.svg\" align=\"right\" width=\"150\" /> \n",
    "#### Procesamiento Digital de Señales\n",
    "\n",
    "# Trabajo Práctico 3\n",
    "#### Nombre y Apellido\n",
    "\n",
    "***\n",
    "## Estimación espectral\n"
   ]
  },
  {
   "cell_type": "code",
   "execution_count": 8,
   "metadata": {
    "code_folding": []
   },
   "outputs": [],
   "source": [
    "## Inicialización del Notebook del TP3\n",
    "\n",
    "import numpy as np\n",
    "import matplotlib as mpl\n",
    "import matplotlib.pyplot as plt\n",
    "from pandas import DataFrame\n",
    "from IPython.display import HTML\n",
    "\n",
    "fs = 1000 # Hz\n",
    "\n",
    "# Insertar aquí el código para inicializar tu notebook\n",
    "########################################################\n"
   ]
  },
  {
   "cell_type": "markdown",
   "metadata": {},
   "source": [
    "<div class=\"alert alert-block alert-info\">\n",
    "<b>1)</b> Compruebe experimentalmente las propiedades de sesgo y varianza del periodograma.\n",
    "</div>"
   ]
  },
  {
   "cell_type": "markdown",
   "metadata": {},
   "source": [
    "<div class=\"alert alert-block alert-success\">\n",
    "<b>Ayuda:</b> Puede utilizar una señal aleatoria con valores normalmente distribuidos de media nula y varianza **NO** unitaria, es decir $ x \\sim \\mathcal{N}(\\mu=0,\\sigma^2=2)$\n",
    "\n",
    "</div>"
   ]
  },
  {
   "cell_type": "markdown",
   "metadata": {},
   "source": [
    "Es decir, que el periodograma es un estimador de la densidad de potencia espectral:\n",
    "\n",
    "$$ \\hat{P_P}(e^{\\frac{2\\pi·k·f_S}{N}}) = \\hat{P_P}(k) = \\frac{1}{N}· \\lvert X(k) \\rvert ^2  $$\n",
    "\n",
    " + **no sesgado asintóticamente** a medida que aumenta la ventana de registro N.\n",
    " + tiene varianza constante y **NO** depende de N."
   ]
  },
  {
   "cell_type": "code",
   "execution_count": 11,
   "metadata": {},
   "outputs": [],
   "source": [
    "# Simular para los siguientes tamaños de señal\n",
    "N = np.array([10, 50, 100, 250, 500, 1000, 5000], dtype=np.float)\n",
    "\n",
    "##########################################\n",
    "# Acá podés generar los gráficos pedidos #\n",
    "##########################################\n"
   ]
  },
  {
   "cell_type": "code",
   "execution_count": 9,
   "metadata": {
    "scrolled": false
   },
   "outputs": [
    {
     "data": {
      "text/html": [
       "<table border=\"1\" class=\"dataframe\">\n",
       "  <thead>\n",
       "    <tr style=\"text-align: right;\">\n",
       "      <th></th>\n",
       "      <th>$s_P$</th>\n",
       "      <th>$v_P$</th>\n",
       "    </tr>\n",
       "  </thead>\n",
       "  <tbody>\n",
       "    <tr>\n",
       "      <th>10.0</th>\n",
       "      <td></td>\n",
       "      <td></td>\n",
       "    </tr>\n",
       "    <tr>\n",
       "      <th>50.0</th>\n",
       "      <td></td>\n",
       "      <td></td>\n",
       "    </tr>\n",
       "    <tr>\n",
       "      <th>100.0</th>\n",
       "      <td></td>\n",
       "      <td></td>\n",
       "    </tr>\n",
       "    <tr>\n",
       "      <th>250.0</th>\n",
       "      <td></td>\n",
       "      <td></td>\n",
       "    </tr>\n",
       "    <tr>\n",
       "      <th>500.0</th>\n",
       "      <td></td>\n",
       "      <td></td>\n",
       "    </tr>\n",
       "    <tr>\n",
       "      <th>1000.0</th>\n",
       "      <td></td>\n",
       "      <td></td>\n",
       "    </tr>\n",
       "    <tr>\n",
       "      <th>5000.0</th>\n",
       "      <td></td>\n",
       "      <td></td>\n",
       "    </tr>\n",
       "  </tbody>\n",
       "</table>"
      ],
      "text/plain": [
       "<IPython.core.display.HTML object>"
      ]
     },
     "execution_count": 9,
     "metadata": {},
     "output_type": "execute_result"
    }
   ],
   "source": [
    "\n",
    "#######################################\n",
    "# Tu simulación que genere resultados #\n",
    "#######################################\n",
    "\n",
    "tus_resultados = [ \n",
    "                   ['', ''], # <-- acá debería haber numeritos :)\n",
    "                   ['', ''], # <-- acá debería haber numeritos :)\n",
    "                   ['', ''], # <-- acá debería haber numeritos :)\n",
    "                   ['', ''], # <-- acá debería haber numeritos :)\n",
    "                   ['', ''], # <-- acá debería haber numeritos :)\n",
    "                   ['', ''], # <-- acá debería haber numeritos :)\n",
    "                   ['', ''], # <-- acá debería haber numeritos :)\n",
    "                 ]\n",
    "df = DataFrame(tus_resultados, columns=['$s_P$', '$v_P$'],\n",
    "               index=N)\n",
    "HTML(df.to_html())\n"
   ]
  },
  {
   "cell_type": "markdown",
   "metadata": {},
   "source": [
    "<div class=\"alert alert-block alert-info\">\n",
    "<b>2)</b>     Compruebe del mismo modo los resultados de sesgo y varianza vistos en la teoría del método de Bartlett.\n",
    "\n",
    "</div>"
   ]
  },
  {
   "cell_type": "markdown",
   "metadata": {},
   "source": [
    "Es decir, que el periodograma de Bartlett es un estimador de la densidad de potencia espectral que promedia K bloques disjuntos de las N muestras de una señal $x$:\n",
    "\n",
    "$$ \\hat{P_B}(k) = \\frac{1}{N}· \\sum^{K-1}_{i=0} \\lvert X(k) \\rvert ^2  $$\n",
    "\n",
    " + **no sesgado asintóticamente** a medida que aumenta la ventana de registro N.\n",
    " + tiene varianza que decrece asintóticamente a medida que aumenta K.\n",
    " + tiene una resolución espectral K veces menor"
   ]
  },
  {
   "cell_type": "code",
   "execution_count": 11,
   "metadata": {},
   "outputs": [],
   "source": [
    "# Simular para los siguientes tamaños de señal\n",
    "N = np.array([10, 50, 100, 250, 500, 1000, 5000], dtype=np.float)\n",
    "\n",
    "##########################################\n",
    "# Acá podés generar los gráficos pedidos #\n",
    "##########################################\n"
   ]
  },
  {
   "cell_type": "code",
   "execution_count": 10,
   "metadata": {
    "scrolled": false
   },
   "outputs": [
    {
     "data": {
      "text/html": [
       "<table border=\"1\" class=\"dataframe\">\n",
       "  <thead>\n",
       "    <tr style=\"text-align: right;\">\n",
       "      <th></th>\n",
       "      <th>$s_B$</th>\n",
       "      <th>$v_B$</th>\n",
       "    </tr>\n",
       "  </thead>\n",
       "  <tbody>\n",
       "    <tr>\n",
       "      <th>10.0</th>\n",
       "      <td></td>\n",
       "      <td></td>\n",
       "    </tr>\n",
       "    <tr>\n",
       "      <th>50.0</th>\n",
       "      <td></td>\n",
       "      <td></td>\n",
       "    </tr>\n",
       "    <tr>\n",
       "      <th>100.0</th>\n",
       "      <td></td>\n",
       "      <td></td>\n",
       "    </tr>\n",
       "    <tr>\n",
       "      <th>250.0</th>\n",
       "      <td></td>\n",
       "      <td></td>\n",
       "    </tr>\n",
       "    <tr>\n",
       "      <th>500.0</th>\n",
       "      <td></td>\n",
       "      <td></td>\n",
       "    </tr>\n",
       "    <tr>\n",
       "      <th>1000.0</th>\n",
       "      <td></td>\n",
       "      <td></td>\n",
       "    </tr>\n",
       "    <tr>\n",
       "      <th>5000.0</th>\n",
       "      <td></td>\n",
       "      <td></td>\n",
       "    </tr>\n",
       "  </tbody>\n",
       "</table>"
      ],
      "text/plain": [
       "<IPython.core.display.HTML object>"
      ]
     },
     "execution_count": 10,
     "metadata": {},
     "output_type": "execute_result"
    }
   ],
   "source": [
    "\n",
    "#######################################\n",
    "# Tu simulación que genere resultados #\n",
    "#######################################\n",
    "\n",
    "tus_resultados = [ \n",
    "                   ['', ''], # <-- acá debería haber numeritos :)\n",
    "                   ['', ''], # <-- acá debería haber numeritos :)\n",
    "                   ['', ''], # <-- acá debería haber numeritos :)\n",
    "                   ['', ''], # <-- acá debería haber numeritos :)\n",
    "                   ['', ''], # <-- acá debería haber numeritos :)\n",
    "                   ['', ''], # <-- acá debería haber numeritos :)\n",
    "                   ['', ''], # <-- acá debería haber numeritos :)\n",
    "                 ]\n",
    "df = DataFrame(tus_resultados, columns=['$s_B$', '$v_B$'],\n",
    "               index=N)\n",
    "HTML(df.to_html())\n"
   ]
  },
  {
   "cell_type": "markdown",
   "metadata": {},
   "source": [
    "<div class=\"alert alert-block alert-info\">\n",
    "<b>3)</b>     Compruebe del mismo modo los resultados de sesgo y varianza vistos en la teoría del método de Welch.\n",
    "\n",
    "</div>"
   ]
  },
  {
   "cell_type": "markdown",
   "metadata": {},
   "source": [
    "Es decir, que el periodograma de Welch es un estimador de la densidad de potencia espectral que promedia K bloques ventaneados por $w(n)$, posiblemente solapados de las N muestras de una señal $x$ (Ver Hayes 8.2.5):\n",
    "\n",
    "$$ \\hat{P_W}(k) = \\frac{1}{K·L·U}· \\sum^{K-1}_{i=0} \\Bigg\\vert \\sum^{L-1}_{n=0}  x(n+i·D) · w(n) · e^{-j2\\pi·k·n·\\frac{f_S}{N}} \\Bigg\\vert^2   $$\n",
    "\n",
    " + **no sesgado asintóticamente** a medida que aumenta la ventana de registro N.\n",
    " + tiene varianza que decrece asintóticamente, a medida que se promedian más bloques de señal.\n",
    " + tiene una resolución espectral inversamente proporcional al tamaño del bloque."
   ]
  },
  {
   "cell_type": "code",
   "execution_count": 11,
   "metadata": {},
   "outputs": [],
   "source": [
    "# Simular para los siguientes tamaños de señal\n",
    "N = np.array([10, 50, 100, 250, 500, 1000, 5000], dtype=np.float)\n",
    "\n",
    "##########################################\n",
    "# Acá podés generar los gráficos pedidos #\n",
    "##########################################\n"
   ]
  },
  {
   "cell_type": "code",
   "execution_count": 11,
   "metadata": {
    "scrolled": false
   },
   "outputs": [
    {
     "data": {
      "text/html": [
       "<table border=\"1\" class=\"dataframe\">\n",
       "  <thead>\n",
       "    <tr style=\"text-align: right;\">\n",
       "      <th></th>\n",
       "      <th>$s_W$</th>\n",
       "      <th>$v_W$</th>\n",
       "    </tr>\n",
       "  </thead>\n",
       "  <tbody>\n",
       "    <tr>\n",
       "      <th>10.0</th>\n",
       "      <td></td>\n",
       "      <td></td>\n",
       "    </tr>\n",
       "    <tr>\n",
       "      <th>50.0</th>\n",
       "      <td></td>\n",
       "      <td></td>\n",
       "    </tr>\n",
       "    <tr>\n",
       "      <th>100.0</th>\n",
       "      <td></td>\n",
       "      <td></td>\n",
       "    </tr>\n",
       "    <tr>\n",
       "      <th>250.0</th>\n",
       "      <td></td>\n",
       "      <td></td>\n",
       "    </tr>\n",
       "    <tr>\n",
       "      <th>500.0</th>\n",
       "      <td></td>\n",
       "      <td></td>\n",
       "    </tr>\n",
       "    <tr>\n",
       "      <th>1000.0</th>\n",
       "      <td></td>\n",
       "      <td></td>\n",
       "    </tr>\n",
       "    <tr>\n",
       "      <th>5000.0</th>\n",
       "      <td></td>\n",
       "      <td></td>\n",
       "    </tr>\n",
       "  </tbody>\n",
       "</table>"
      ],
      "text/plain": [
       "<IPython.core.display.HTML object>"
      ]
     },
     "execution_count": 11,
     "metadata": {},
     "output_type": "execute_result"
    }
   ],
   "source": [
    "\n",
    "#######################################\n",
    "# Tu simulación que genere resultados #\n",
    "#######################################\n",
    "\n",
    "tus_resultados = [ \n",
    "                   ['', ''], # <-- acá debería haber numeritos :)\n",
    "                   ['', ''], # <-- acá debería haber numeritos :)\n",
    "                   ['', ''], # <-- acá debería haber numeritos :)\n",
    "                   ['', ''], # <-- acá debería haber numeritos :)\n",
    "                   ['', ''], # <-- acá debería haber numeritos :)\n",
    "                   ['', ''], # <-- acá debería haber numeritos :)\n",
    "                   ['', ''], # <-- acá debería haber numeritos :)\n",
    "                 ]\n",
    "df = DataFrame(tus_resultados, columns=['$s_W$', '$v_W$'],\n",
    "               index=N)\n",
    "HTML(df.to_html())\n"
   ]
  }
 ],
 "metadata": {
  "kernelspec": {
   "display_name": "Python 3",
   "language": "python",
   "name": "python3"
  },
  "language_info": {
   "codemirror_mode": {
    "name": "ipython",
    "version": 3
   },
   "file_extension": ".py",
   "mimetype": "text/x-python",
   "name": "python",
   "nbconvert_exporter": "python",
   "pygments_lexer": "ipython3",
   "version": "3.6.5"
  }
 },
 "nbformat": 4,
 "nbformat_minor": 2
}

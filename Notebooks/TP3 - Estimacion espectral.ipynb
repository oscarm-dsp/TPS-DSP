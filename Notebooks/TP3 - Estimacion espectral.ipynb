{
 "cells": [
  {
   "cell_type": "markdown",
   "metadata": {},
   "source": [
    "## <img src=\"./logo_UTN.svg\" align=\"right\" width=\"150\" /> \n",
    "#### Procesamiento Digital de Señales\n",
    "\n",
    "# Trabajo Práctico 3\n",
    "#### Oscar Maffei\n",
    "\n",
    "***\n",
    "## Estimación espectral\n"
   ]
  },
  {
   "cell_type": "code",
   "execution_count": 12,
   "metadata": {
    "code_folding": []
   },
   "outputs": [],
   "source": [
    "## Inicialización del Notebook del TP3\n",
    "\n",
    "\n",
    "import numpy as np\n",
    "import matplotlib as mpl\n",
    "import matplotlib.pyplot as plt\n",
    "import scipy.signal as sg\n",
    "import spectrum as sp\n",
    "from pandas import DataFrame\n",
    "from IPython.display import HTML\n",
    "\n",
    "\n",
    "fs = 1000 # Hz\n",
    "\n",
    "# Insertar aquí el código para inicializar tu notebook\n",
    "########################################################\n",
    "\n",
    "def Periodograma(x):\n",
    "    p=(1/len(x))* abs(np.fft.fft(x))**2\n",
    "    p[0]=p[1]\n",
    "    return p\n",
    "\n",
    "def PeriodogramaB(x,k=5):\n",
    "    L=int(len(x)/k)\n",
    "    p=np.zeros(L)\n",
    "    n=0\n",
    "    for i in range(k):\n",
    "        p=p+Periodograma(x[n:n+L])/k\n",
    "        n=n+L    \n",
    "    return p\n",
    "\n",
    "\n",
    "def PeriodogramaM(x):\n",
    "    w=np.hamming(len(x))\n",
    "    s=x*w/max(w)\n",
    "    p=Periodograma(s)\n",
    "    return p\n",
    "\n",
    "def PeriodogramaW(x,L,ovr=0):\n",
    "    n=0\n",
    "    stp=(1-ovr)*L\n",
    "    k=1+np.floor((len(x)-L)/stp)\n",
    "    p=np.zeros(L)\n",
    "    for i in range(int(k)):\n",
    "        p=p+PeriodogramaM(x[n:n+L])/k\n",
    "        n=n+int(stp)\n",
    "    \n",
    "    return p \n"
   ]
  },
  {
   "cell_type": "markdown",
   "metadata": {},
   "source": [
    "<div class=\"alert alert-block alert-info\">\n",
    "<b>1)</b> Compruebe experimentalmente las propiedades de sesgo y varianza del periodograma.\n",
    "</div>"
   ]
  },
  {
   "cell_type": "markdown",
   "metadata": {},
   "source": [
    "<div class=\"alert alert-block alert-success\">\n",
    "<b>Ayuda:</b> Puede utilizar una señal aleatoria con valores normalmente distribuidos de media nula y varianza **NO** unitaria, es decir $ x \\sim \\mathcal{N}(\\mu=0,\\sigma^2=2)$\n",
    "\n",
    "</div>"
   ]
  },
  {
   "cell_type": "markdown",
   "metadata": {},
   "source": [
    "Es decir, que el periodograma es un estimador de la densidad de potencia espectral (Ver Hayes 8.2.2):\n",
    "\n",
    "$$ \\hat{P_P}(e^{\\frac{2\\pi·k·f_S}{N}}) = \\hat{P_P}(k) = \\frac{1}{N}· \\lvert X(k) \\rvert ^2  $$\n",
    "\n",
    " + **no sesgado asintóticamente** a medida que aumenta la ventana de registro N.\n",
    " + tiene varianza constante y **NO** depende de N."
   ]
  },
  {
   "cell_type": "code",
   "execution_count": 17,
   "metadata": {},
   "outputs": [],
   "source": [
    "# Simular para los siguientes tamaños de señal\n",
    "N = np.array([10, 50, 100, 250, 500, 1000, 5000], dtype=np.float)\n",
    "\n",
    "##########################################\n",
    "# Acá podés generar los gráficos pedidos #\n",
    "##########################################\n",
    "\n",
    "N=[10,50,100,250,500,1000,5000]\n",
    "fs=1000\n",
    "\n",
    "#Ruido Normal de varianza 2\n",
    "sn= [np.random.normal(0,np.sqrt(2),n).flatten() for n in N]\n",
    "\n",
    "#Periodograma\n",
    "Ps=[Periodograma(s) for s in sn]\n",
    "\n",
    "data= [[p.mean(),p.var()] for p in Ps]\n"
   ]
  },
  {
   "cell_type": "code",
   "execution_count": 18,
   "metadata": {
    "scrolled": false
   },
   "outputs": [
    {
     "data": {
      "text/html": [
       "<table border=\"1\" class=\"dataframe\">\n",
       "  <thead>\n",
       "    <tr style=\"text-align: right;\">\n",
       "      <th></th>\n",
       "      <th>$s_P$</th>\n",
       "      <th>$v_P$</th>\n",
       "    </tr>\n",
       "  </thead>\n",
       "  <tbody>\n",
       "    <tr>\n",
       "      <th>10</th>\n",
       "      <td>1.340264</td>\n",
       "      <td>0.434065</td>\n",
       "    </tr>\n",
       "    <tr>\n",
       "      <th>50</th>\n",
       "      <td>1.618985</td>\n",
       "      <td>4.202137</td>\n",
       "    </tr>\n",
       "    <tr>\n",
       "      <th>100</th>\n",
       "      <td>2.519665</td>\n",
       "      <td>7.051414</td>\n",
       "    </tr>\n",
       "    <tr>\n",
       "      <th>250</th>\n",
       "      <td>1.595688</td>\n",
       "      <td>2.652785</td>\n",
       "    </tr>\n",
       "    <tr>\n",
       "      <th>500</th>\n",
       "      <td>1.813457</td>\n",
       "      <td>3.074122</td>\n",
       "    </tr>\n",
       "    <tr>\n",
       "      <th>1000</th>\n",
       "      <td>1.970327</td>\n",
       "      <td>3.855483</td>\n",
       "    </tr>\n",
       "    <tr>\n",
       "      <th>5000</th>\n",
       "      <td>2.022779</td>\n",
       "      <td>4.277577</td>\n",
       "    </tr>\n",
       "  </tbody>\n",
       "</table>"
      ],
      "text/plain": [
       "<IPython.core.display.HTML object>"
      ]
     },
     "execution_count": 18,
     "metadata": {},
     "output_type": "execute_result"
    }
   ],
   "source": [
    "\n",
    "#######################################\n",
    "# Tu simulación que genere resultados #\n",
    "#######################################\n",
    "\n",
    "tus_resultados = data \n",
    "#                   ['', ''], # <-- acá debería haber numeritos :)\n",
    "#                   ['', ''], # <-- acá debería haber numeritos :)\n",
    "#                   ['', ''], # <-- acá debería haber numeritos :)\n",
    "#                   ['', ''], # <-- acá debería haber numeritos :)\n",
    "#                   ['', ''], # <-- acá debería haber numeritos :)\n",
    "#                   ['', ''], # <-- acá debería haber numeritos :)\n",
    "#                   ['', ''], # <-- acá debería haber numeritos :)\n",
    "#                 ]\n",
    "df = DataFrame(tus_resultados, columns=['$s_P$', '$v_P$'],\n",
    "               index=N)\n",
    "HTML(df.to_html())\n"
   ]
  },
  {
   "cell_type": "markdown",
   "metadata": {},
   "source": [
    "<div class=\"alert alert-block alert-info\">\n",
    "<b>2)</b>     Compruebe del mismo modo los resultados de sesgo y varianza vistos en la teoría del método de Bartlett.\n",
    "\n",
    "</div>"
   ]
  },
  {
   "cell_type": "markdown",
   "metadata": {},
   "source": [
    "Es decir, que el periodograma de Bartlett es un estimador de la densidad de potencia espectral que promedia K bloques disjuntos de las N muestras de una señal $x$ (Ver Hayes 8.2.4):\n",
    "\n",
    "$$ \\hat{P_B}(k) = \\frac{1}{N}· \\sum^{K-1}_{i=0} \\lvert X(k) \\rvert ^2  $$\n",
    "\n",
    " + **no sesgado asintóticamente** a medida que aumenta la ventana de registro N.\n",
    " + tiene varianza que decrece asintóticamente a medida que aumenta K.\n",
    " + tiene una resolución espectral K veces menor"
   ]
  },
  {
   "cell_type": "code",
   "execution_count": 19,
   "metadata": {},
   "outputs": [],
   "source": [
    "# Simular para los siguientes tamaños de señal\n",
    "N = np.array([10, 50, 100, 250, 500, 1000, 5000], dtype=np.float)\n",
    "\n",
    "##########################################\n",
    "# Acá podés generar los gráficos pedidos #\n",
    "##########################################\n",
    "\n",
    "N=[10,50,100,250,500,1000,5000]\n",
    "fs=1000\n",
    "\n",
    "\n",
    "#Ruido Normal de varianza 2\n",
    "sn= [np.random.normal(0,np.sqrt(2),n).flatten() for n in N]\n",
    "\n",
    "#Periodograma de Bartlett\n",
    "Pb=[PeriodogramaB(s) for s in sn]\n",
    "\n",
    "data= [[p.mean(),p.var()] for p in Pb]\n",
    "\n"
   ]
  },
  {
   "cell_type": "code",
   "execution_count": 20,
   "metadata": {
    "scrolled": false
   },
   "outputs": [
    {
     "data": {
      "text/html": [
       "<table border=\"1\" class=\"dataframe\">\n",
       "  <thead>\n",
       "    <tr style=\"text-align: right;\">\n",
       "      <th></th>\n",
       "      <th>$s_B$</th>\n",
       "      <th>$v_B$</th>\n",
       "    </tr>\n",
       "  </thead>\n",
       "  <tbody>\n",
       "    <tr>\n",
       "      <th>10</th>\n",
       "      <td>2.592548</td>\n",
       "      <td>0.000000</td>\n",
       "    </tr>\n",
       "    <tr>\n",
       "      <th>50</th>\n",
       "      <td>2.461973</td>\n",
       "      <td>4.360076</td>\n",
       "    </tr>\n",
       "    <tr>\n",
       "      <th>100</th>\n",
       "      <td>1.801905</td>\n",
       "      <td>0.421914</td>\n",
       "    </tr>\n",
       "    <tr>\n",
       "      <th>250</th>\n",
       "      <td>2.046831</td>\n",
       "      <td>0.638301</td>\n",
       "    </tr>\n",
       "    <tr>\n",
       "      <th>500</th>\n",
       "      <td>1.725515</td>\n",
       "      <td>0.772198</td>\n",
       "    </tr>\n",
       "    <tr>\n",
       "      <th>1000</th>\n",
       "      <td>2.077405</td>\n",
       "      <td>0.912475</td>\n",
       "    </tr>\n",
       "    <tr>\n",
       "      <th>5000</th>\n",
       "      <td>2.042862</td>\n",
       "      <td>0.772160</td>\n",
       "    </tr>\n",
       "  </tbody>\n",
       "</table>"
      ],
      "text/plain": [
       "<IPython.core.display.HTML object>"
      ]
     },
     "execution_count": 20,
     "metadata": {},
     "output_type": "execute_result"
    }
   ],
   "source": [
    "\n",
    "#######################################\n",
    "# Tu simulación que genere resultados #\n",
    "#######################################\n",
    "\n",
    "tus_resultados = data #[ \n",
    "#                   ['', ''], # <-- acá debería haber numeritos :)\n",
    "#                   ['', ''], # <-- acá debería haber numeritos :)\n",
    "#                   ['', ''], # <-- acá debería haber numeritos :)\n",
    "#                   ['', ''], # <-- acá debería haber numeritos :)\n",
    "#                   ['', ''], # <-- acá debería haber numeritos :)\n",
    "#                  ['', ''], # <-- acá debería haber numeritos :)\n",
    "#                   ['', ''], # <-- acá debería haber numeritos :)\n",
    "#                 ]\n",
    "df = DataFrame(tus_resultados, columns=['$s_B$', '$v_B$'],\n",
    "               index=N)\n",
    "HTML(df.to_html())\n"
   ]
  },
  {
   "cell_type": "markdown",
   "metadata": {},
   "source": [
    "<div class=\"alert alert-block alert-info\">\n",
    "<b>3)</b>     Compruebe del mismo modo los resultados de sesgo y varianza vistos en la teoría del método de Welch.\n",
    "\n",
    "</div>"
   ]
  },
  {
   "cell_type": "markdown",
   "metadata": {},
   "source": [
    "Es decir, que el periodograma de Welch es un estimador de la densidad de potencia espectral que promedia K bloques ventaneados por $w(n)$, posiblemente solapados de las N muestras de una señal $x$ (Ver Hayes 8.2.5):\n",
    "\n",
    "$$ \\hat{P_W}(k) = \\frac{1}{K·L·U}· \\sum^{K-1}_{i=0} \\Bigg\\vert \\sum^{L-1}_{n=0}  x(n+i·D) · w(n) · e^{-j2\\pi·k·n·\\frac{f_S}{N}} \\Bigg\\vert^2   $$\n",
    "\n",
    " + **no sesgado asintóticamente** a medida que aumenta la ventana de registro N.\n",
    " + tiene varianza que decrece asintóticamente, a medida que se promedian más bloques de señal.\n",
    " + tiene una resolución espectral inversamente proporcional al tamaño del bloque."
   ]
  },
  {
   "cell_type": "code",
   "execution_count": 25,
   "metadata": {},
   "outputs": [],
   "source": [
    "# Simular para los siguientes tamaños de señal\n",
    "N = np.array([10, 50, 100, 250, 500, 1000, 5000], dtype=np.float)\n",
    "\n",
    "##########################################\n",
    "# Acá podés generar los gráficos pedidos #\n",
    "##########################################\n",
    "Pw =[ sg.welch(s, fs=fs, nfft=len(s), window='hanning', nperseg=int(np.round(len(s)/3)) ) for s in sn]\n",
    "\n",
    "\n",
    "data=[[p[1].mean(),p[1].var()] for p in Pw]\n"
   ]
  },
  {
   "cell_type": "code",
   "execution_count": 24,
   "metadata": {
    "scrolled": false
   },
   "outputs": [
    {
     "data": {
      "text/html": [
       "<table border=\"1\" class=\"dataframe\">\n",
       "  <thead>\n",
       "    <tr style=\"text-align: right;\">\n",
       "      <th></th>\n",
       "      <th>$s_W$</th>\n",
       "      <th>$v_W$</th>\n",
       "    </tr>\n",
       "  </thead>\n",
       "  <tbody>\n",
       "    <tr>\n",
       "      <th>10.0</th>\n",
       "      <td>0.003939</td>\n",
       "      <td>0.000007</td>\n",
       "    </tr>\n",
       "    <tr>\n",
       "      <th>50.0</th>\n",
       "      <td>0.005256</td>\n",
       "      <td>0.000016</td>\n",
       "    </tr>\n",
       "    <tr>\n",
       "      <th>100.0</th>\n",
       "      <td>0.003305</td>\n",
       "      <td>0.000003</td>\n",
       "    </tr>\n",
       "    <tr>\n",
       "      <th>250.0</th>\n",
       "      <td>0.004072</td>\n",
       "      <td>0.000003</td>\n",
       "    </tr>\n",
       "    <tr>\n",
       "      <th>500.0</th>\n",
       "      <td>0.003600</td>\n",
       "      <td>0.000003</td>\n",
       "    </tr>\n",
       "    <tr>\n",
       "      <th>1000.0</th>\n",
       "      <td>0.004251</td>\n",
       "      <td>0.000005</td>\n",
       "    </tr>\n",
       "    <tr>\n",
       "      <th>5000.0</th>\n",
       "      <td>0.004042</td>\n",
       "      <td>0.000004</td>\n",
       "    </tr>\n",
       "  </tbody>\n",
       "</table>"
      ],
      "text/plain": [
       "<IPython.core.display.HTML object>"
      ]
     },
     "execution_count": 24,
     "metadata": {},
     "output_type": "execute_result"
    }
   ],
   "source": [
    "\n",
    "#######################################\n",
    "# Tu simulación que genere resultados #\n",
    "#######################################\n",
    "\n",
    "tus_resultados = data #[ \n",
    "#                   ['', ''], # <-- acá debería haber numeritos :)\n",
    "#                   ['', ''], # <-- acá debería haber numeritos :)\n",
    "#                   ['', ''], # <-- acá debería haber numeritos :)\n",
    "#                   ['', ''], # <-- acá debería haber numeritos :)\n",
    "#                   ['', ''], # <-- acá debería haber numeritos :)\n",
    "#                   ['', ''], # <-- acá debería haber numeritos :)\n",
    "#                   ['', ''], # <-- acá debería haber numeritos :)\n",
    "#                 ]\n",
    "df = DataFrame(tus_resultados, columns=['$s_W$', '$v_W$'],\n",
    "               index=N)\n",
    "HTML(df.to_html())\n"
   ]
  },
  {
   "cell_type": "markdown",
   "metadata": {},
   "source": [
    "<div class=\"alert alert-block alert-info\">\n",
    "<b>4)</b> Evalue el siguiente estimador de frecuencia de una senoidal contaminada por ruido incorrelado.\n",
    "\n",
    "</div>"
   ]
  },
  {
   "cell_type": "markdown",
   "metadata": {},
   "source": [
    "Para una señal $ x(k) = a_1 · \\mathop{sen}(\\Omega_1·k) + n(k)$\n",
    "\n",
    "siendo \n",
    "\n",
    "  $\\Omega_1 = \\Omega_0 + f_r·\\frac{2\\pi}{N} $\n",
    "\n",
    "  $\\Omega_0 = \\frac{\\pi}{2} $\n",
    "  \n",
    "y las variables aleatorias definidas por\n",
    "\n",
    "  $f_r \\sim \\mathcal{U}(-\\frac{1}{2}, \\, \\frac{1}{2}) $\n",
    "\n",
    "  $n \\sim \\mathcal{N}(0, \\, \\sigma ^2) $\n",
    "  \n",
    "Evalúe el siguiente estimador de $\\Omega_1$\n",
    "\n",
    "  $\\hat{\\Omega}_1^W = \\mathop{arg\\ max}_f \\{ \\hat{P_W} \\} $\n",
    "  \n",
    "basado en el periodograma de Welch evaluado en **3)**. Del mismo modo, evalúe otro estimador de la PSD para crear otro estimador de $\\Omega_1$\n",
    "\n",
    "  $\\hat{\\Omega}_1^X = \\mathop{arg\\ max}_f \\{ \\hat{P_X} \\} $\n",
    "\n",
    "Considere 200 realizaciones de 1000 muestras para cada experimento. Cada realización debe tener un SNR tal que el pico de la senoidal esté 3 y 10 db por encima del *piso* de ruido impuesto por $n(k)$.\n"
   ]
  },
  {
   "cell_type": "markdown",
   "metadata": {},
   "source": [
    "<div class=\"alert alert-block alert-success\">\n",
    "<b>Ayuda:</b> Puede utilizar el módulo de análisis espectral **Spectrum** donde encontrará la mayoría de los métodos descriptos en el Capítulo 8 del libro de Hayes.\n",
    "\n",
    "</div>"
   ]
  },
  {
   "cell_type": "code",
   "execution_count": 29,
   "metadata": {},
   "outputs": [
    {
     "data": {
      "text/plain": [
       "<matplotlib.legend.Legend at 0x64f5038f28>"
      ]
     },
     "execution_count": 29,
     "metadata": {},
     "output_type": "execute_result"
    },
    {
     "data": {
      "image/png": "[encoded data removed]",
      "text/plain": [
       "<Figure size 432x288 with 1 Axes>"
      ]
     },
     "metadata": {},
     "output_type": "display_data"
    },
    {
     "data": {
      "image/png": "[encoded data removed]",
      "text/plain": [
       "<Figure size 432x288 with 1 Axes>"
      ]
     },
     "metadata": {},
     "output_type": "display_data"
    }
   ],
   "source": [
    "# Simular para los siguientes tamaños de señal\n",
    "\n",
    "R = 200 # realizaciones\n",
    "\n",
    "N = 1000 # Muestras\n",
    "\n",
    "# Obtené los valores XX para que cumplas con el enunciado\n",
    "#SNR = np.array([ XX, XX ], dtype=np.float)\n",
    "\n",
    "##########################################\n",
    "# Acá podés generar los gráficos pedidos #\n",
    "##########################################\n",
    "#Por Welch\n",
    "k=np.linspace(0,N-1,N)\n",
    "Wn=np.pi * np.ones(200)/2\n",
    "Ww3=np.zeros(200)\n",
    "Ww10=np.zeros(200)\n",
    "for i in range(200):\n",
    "    fr=np.random.uniform(-0.5,0.5,N)\n",
    "    n=np.random.normal(0,2,N)\n",
    "    W=np.pi/2 + fr*2*np.pi/N \n",
    "    s3=3.3 * np.sin(W * k) + n\n",
    "    s10=4.7 * np.sin(W * k) + n\n",
    "    Pw=sg.welch(s3, fs=fs, nfft=N,nperseg=int(np.round(N/3)))\n",
    "    Ww3[i]=2* np.pi * np.argmax(Pw[1])/N\n",
    "    Pw=sg.welch(s10, fs=fs, nfft=N,nperseg=int(np.round(N/3))) \n",
    "    Ww10[i]=2*np.pi * np.argmax(Pw[1])/N\n",
    "    \n",
    "#Por Bartlett\n",
    "Ww=np.transpose(np.vstack([Wn,Ww3,Ww10]))\n",
    "plt.title(\"Método de Welch\")\n",
    "line_hdls= plt.plot(Ww)\n",
    "axes_hdl = plt.gca()\n",
    "axes_hdl.legend(line_hdls, ['Real','SNR=3dB','SNR=10dB'], loc='upper right'  )\n",
    "\n",
    "for i in range(200):\n",
    "    fr=np.random.uniform(-0.5,0.5,N)\n",
    "    n=np.random.normal(0,2,N)\n",
    "    W=np.pi/2 + fr*2*np.pi/N \n",
    "    s3=3.3 * np.sin(W * k) + n\n",
    "    s10=4.7 * np.sin(W * k) + n\n",
    "    Pw=PeriodogramaB(s3,2)\n",
    "    Ww3[i]=2* np.pi * np.argmax(Pw)/len(Pw)\n",
    "    Pw=PeriodogramaB(s10,2) \n",
    "    Ww10[i]=2*np.pi * np.argmax(Pw)/len(Pw)\n",
    "    \n",
    "\n",
    "Ww=np.transpose(np.vstack([Wn,Ww3,Ww10]))\n",
    "plt.figure(2)\n",
    "plt.title(\"Método de Bartlett\")\n",
    "line_hdls= plt.plot(Ww)\n",
    "axes_hdl = plt.gca()\n",
    "axes_hdl.legend(line_hdls, ['Real','SNR=3dB','SNR=10dB'], loc='upper right'  )"
   ]
  },
  {
   "cell_type": "markdown",
   "metadata": {},
   "source": [
    "   a) ¿Qué estimador ha elegido? Explique brevemente los fundamentos principales y el enfoque del método elegido.\n"
   ]
  },
  {
   "cell_type": "markdown",
   "metadata": {},
   "source": [
    "<div class=\"alert alert-block alert-warning\">\n",
    "<b>Respuesta:</b> El estimador elegido fue el Periodograma.\n",
    "</div>"
   ]
  },
  {
   "cell_type": "markdown",
   "metadata": {},
   "source": [
    "   b) ¿Qué indicador considera que sería apropiado para poder comparar el rendimiento de ambos estimadores $i_j$?\n"
   ]
  },
  {
   "cell_type": "markdown",
   "metadata": {},
   "source": [
    "<div class=\"alert alert-block alert-warning\">\n",
    "<b>Respuesta:</b> Escriba aquí su respuesta.\n",
    "</div>"
   ]
  },
  {
   "cell_type": "code",
   "execution_count": 30,
   "metadata": {
    "scrolled": false
   },
   "outputs": [
    {
     "data": {
      "text/html": [
       "<table border=\"1\" class=\"dataframe\">\n",
       "  <thead>\n",
       "    <tr style=\"text-align: right;\">\n",
       "      <th></th>\n",
       "      <th>$i_W$</th>\n",
       "      <th>$i_X$</th>\n",
       "    </tr>\n",
       "  </thead>\n",
       "  <tbody>\n",
       "    <tr>\n",
       "      <th>3 dB</th>\n",
       "      <td></td>\n",
       "      <td></td>\n",
       "    </tr>\n",
       "    <tr>\n",
       "      <th>10 dB</th>\n",
       "      <td></td>\n",
       "      <td></td>\n",
       "    </tr>\n",
       "  </tbody>\n",
       "</table>"
      ],
      "text/plain": [
       "<IPython.core.display.HTML object>"
      ]
     },
     "execution_count": 30,
     "metadata": {},
     "output_type": "execute_result"
    }
   ],
   "source": [
    "\n",
    "#######################################\n",
    "# Tu simulación que genere resultados #\n",
    "#######################################\n",
    "\n",
    "# Una vez definido tu indicador de performance, calculalo y comparalo para las situaciones pedidas.\n",
    "tus_resultados = [ \n",
    "                   ['', ''], # <-- acá debería haber numeritos :)\n",
    "                   ['', ''] # <-- acá debería haber numeritos :)\n",
    "                 ]\n",
    "df = DataFrame(tus_resultados, columns=['$i_W$', '$i_X$'],\n",
    "               index=[  \n",
    "                        '3 dB',\n",
    "                        '10 dB'\n",
    "                     ])\n",
    "HTML(df.to_html())\n"
   ]
  },
  {
   "cell_type": "code",
   "execution_count": null,
   "metadata": {},
   "outputs": [],
   "source": []
  }
 ],
 "metadata": {
  "kernelspec": {
   "display_name": "Python 3",
   "language": "python",
   "name": "python3"
  },
  "language_info": {
   "codemirror_mode": {
    "name": "ipython",
    "version": 3
   },
   "file_extension": ".py",
   "mimetype": "text/x-python",
   "name": "python",
   "nbconvert_exporter": "python",
   "pygments_lexer": "ipython3",
   "version": "3.6.5"
  }
 },
 "nbformat": 4,
 "nbformat_minor": 2
}
